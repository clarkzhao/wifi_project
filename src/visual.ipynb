{
 "cells": [
  {
   "cell_type": "code",
   "execution_count": 1,
   "metadata": {
    "collapsed": true
   },
   "outputs": [],
   "source": [
    "# Import required packages \n",
    "from __future__ import division, print_function # Imports from __future__ since we're running Python 2\n",
    "import os\n",
    "import numpy as np \n",
    "import pandas as pd\n",
    "import matplotlib.pyplot as plt\n",
    "import seaborn as sns\n",
    "%matplotlib inline"
   ]
  },
  {
   "cell_type": "code",
   "execution_count": 2,
   "metadata": {
    "collapsed": false
   },
   "outputs": [],
   "source": [
    "# 读取文件\n",
    "shop_path = os.path.join(os.path.dirname(os.getcwd()), 'data', 'ccf_first_round_shop_info.csv')\n",
    "user_path = os.path.join(os.path.dirname(os.getcwd()), 'data', 'ccf_first_round_user_shop_behavior.csv')\n",
    "eval_path = os.path.join(os.path.dirname(os.getcwd()), 'data', 'evaluation_public.csv')\n",
    "\n",
    "shop_train = pd.read_csv(shop_path, delimiter = ',')\n",
    "user_train = pd.read_csv(user_path, delimiter = ',')\n",
    "evaluation_data =  pd.read_csv(eval_path, delimiter = ',')\n",
    "# landsat_test = pd.read_csv(test_path, delimiter = ',')"
   ]
  },
  {
   "cell_type": "markdown",
   "metadata": {},
   "source": [
    "# 店铺和商场信息"
   ]
  },
  {
   "cell_type": "code",
   "execution_count": 3,
   "metadata": {
    "collapsed": false
   },
   "outputs": [
    {
     "data": {
      "text/html": [
       "<div>\n",
       "<table border=\"1\" class=\"dataframe\">\n",
       "  <thead>\n",
       "    <tr style=\"text-align: right;\">\n",
       "      <th></th>\n",
       "      <th>shop_id</th>\n",
       "      <th>category_id</th>\n",
       "      <th>longitude</th>\n",
       "      <th>latitude</th>\n",
       "      <th>price</th>\n",
       "      <th>mall_id</th>\n",
       "    </tr>\n",
       "  </thead>\n",
       "  <tbody>\n",
       "    <tr>\n",
       "      <th>0</th>\n",
       "      <td>s_26</td>\n",
       "      <td>c_4</td>\n",
       "      <td>122.346736</td>\n",
       "      <td>31.833507</td>\n",
       "      <td>57</td>\n",
       "      <td>m_690</td>\n",
       "    </tr>\n",
       "    <tr>\n",
       "      <th>1</th>\n",
       "      <td>s_133</td>\n",
       "      <td>c_6</td>\n",
       "      <td>121.134362</td>\n",
       "      <td>31.197511</td>\n",
       "      <td>58</td>\n",
       "      <td>m_6587</td>\n",
       "    </tr>\n",
       "    <tr>\n",
       "      <th>2</th>\n",
       "      <td>s_251</td>\n",
       "      <td>c_38</td>\n",
       "      <td>121.000505</td>\n",
       "      <td>30.907667</td>\n",
       "      <td>34</td>\n",
       "      <td>m_5892</td>\n",
       "    </tr>\n",
       "    <tr>\n",
       "      <th>3</th>\n",
       "      <td>s_372</td>\n",
       "      <td>c_30</td>\n",
       "      <td>119.864982</td>\n",
       "      <td>26.659876</td>\n",
       "      <td>44</td>\n",
       "      <td>m_625</td>\n",
       "    </tr>\n",
       "    <tr>\n",
       "      <th>4</th>\n",
       "      <td>s_456</td>\n",
       "      <td>c_26</td>\n",
       "      <td>122.594243</td>\n",
       "      <td>31.581499</td>\n",
       "      <td>44</td>\n",
       "      <td>m_3839</td>\n",
       "    </tr>\n",
       "  </tbody>\n",
       "</table>\n",
       "</div>"
      ],
      "text/plain": [
       "  shop_id category_id   longitude   latitude  price mall_id\n",
       "0    s_26         c_4  122.346736  31.833507     57   m_690\n",
       "1   s_133         c_6  121.134362  31.197511     58  m_6587\n",
       "2   s_251        c_38  121.000505  30.907667     34  m_5892\n",
       "3   s_372        c_30  119.864982  26.659876     44   m_625\n",
       "4   s_456        c_26  122.594243  31.581499     44  m_3839"
      ]
     },
     "execution_count": 3,
     "metadata": {},
     "output_type": "execute_result"
    }
   ],
   "source": [
    "shop_train.head(n=5)"
   ]
  },
  {
   "cell_type": "code",
   "execution_count": 4,
   "metadata": {
    "collapsed": false
   },
   "outputs": [
    {
     "name": "stdout",
     "output_type": "stream",
     "text": [
      "<class 'pandas.core.frame.DataFrame'>\n",
      "RangeIndex: 8477 entries, 0 to 8476\n",
      "Data columns (total 6 columns):\n",
      "shop_id        8477 non-null object\n",
      "category_id    8477 non-null object\n",
      "longitude      8477 non-null float64\n",
      "latitude       8477 non-null float64\n",
      "price          8477 non-null int64\n",
      "mall_id        8477 non-null object\n",
      "dtypes: float64(2), int64(1), object(3)\n",
      "memory usage: 397.4+ KB\n"
     ]
    }
   ],
   "source": [
    "shop_train.info()"
   ]
  },
  {
   "cell_type": "code",
   "execution_count": 5,
   "metadata": {
    "collapsed": false
   },
   "outputs": [
    {
     "data": {
      "text/html": [
       "<div>\n",
       "<table border=\"1\" class=\"dataframe\">\n",
       "  <thead>\n",
       "    <tr style=\"text-align: right;\">\n",
       "      <th></th>\n",
       "      <th>longitude</th>\n",
       "      <th>latitude</th>\n",
       "      <th>price</th>\n",
       "    </tr>\n",
       "  </thead>\n",
       "  <tbody>\n",
       "    <tr>\n",
       "      <th>count</th>\n",
       "      <td>8477.000000</td>\n",
       "      <td>8477.000000</td>\n",
       "      <td>8477.000000</td>\n",
       "    </tr>\n",
       "    <tr>\n",
       "      <th>mean</th>\n",
       "      <td>117.426526</td>\n",
       "      <td>32.961908</td>\n",
       "      <td>50.527309</td>\n",
       "    </tr>\n",
       "    <tr>\n",
       "      <th>std</th>\n",
       "      <td>4.367982</td>\n",
       "      <td>4.687368</td>\n",
       "      <td>9.416713</td>\n",
       "    </tr>\n",
       "    <tr>\n",
       "      <th>min</th>\n",
       "      <td>104.414352</td>\n",
       "      <td>23.157355</td>\n",
       "      <td>24.000000</td>\n",
       "    </tr>\n",
       "    <tr>\n",
       "      <th>25%</th>\n",
       "      <td>114.829869</td>\n",
       "      <td>30.911022</td>\n",
       "      <td>43.000000</td>\n",
       "    </tr>\n",
       "    <tr>\n",
       "      <th>50%</th>\n",
       "      <td>118.192157</td>\n",
       "      <td>32.181703</td>\n",
       "      <td>50.000000</td>\n",
       "    </tr>\n",
       "    <tr>\n",
       "      <th>75%</th>\n",
       "      <td>120.927247</td>\n",
       "      <td>36.827750</td>\n",
       "      <td>59.000000</td>\n",
       "    </tr>\n",
       "    <tr>\n",
       "      <th>max</th>\n",
       "      <td>123.801593</td>\n",
       "      <td>42.367802</td>\n",
       "      <td>88.000000</td>\n",
       "    </tr>\n",
       "  </tbody>\n",
       "</table>\n",
       "</div>"
      ],
      "text/plain": [
       "         longitude     latitude        price\n",
       "count  8477.000000  8477.000000  8477.000000\n",
       "mean    117.426526    32.961908    50.527309\n",
       "std       4.367982     4.687368     9.416713\n",
       "min     104.414352    23.157355    24.000000\n",
       "25%     114.829869    30.911022    43.000000\n",
       "50%     118.192157    32.181703    50.000000\n",
       "75%     120.927247    36.827750    59.000000\n",
       "max     123.801593    42.367802    88.000000"
      ]
     },
     "execution_count": 5,
     "metadata": {},
     "output_type": "execute_result"
    }
   ],
   "source": [
    "shop_train.describe()"
   ]
  },
  {
   "cell_type": "code",
   "execution_count": 6,
   "metadata": {
    "collapsed": false
   },
   "outputs": [
    {
     "name": "stdout",
     "output_type": "stream",
     "text": [
      "['m_690', 'm_6587', 'm_5892', 'm_625', 'm_3839', 'm_3739', 'm_1293', 'm_1175', 'm_2182', 'm_2058', 'm_3871', 'm_3005', 'm_822', 'm_2467', 'm_4406', 'm_909', 'm_4923', 'm_2224', 'm_2333', 'm_4079', 'm_5085', 'm_2415', 'm_4543', 'm_7168', 'm_2123', 'm_4572', 'm_1790', 'm_3313', 'm_4459', 'm_1409', 'm_979', 'm_7973', 'm_1375', 'm_4011', 'm_1831', 'm_4495', 'm_1085', 'm_3445', 'm_626', 'm_8093', 'm_4828', 'm_6167', 'm_3112', 'm_4341', 'm_622', 'm_4422', 'm_2267', 'm_615', 'm_4121', 'm_9054', 'm_4515', 'm_1950', 'm_3425', 'm_3501', 'm_4548', 'm_5352', 'm_3832', 'm_1377', 'm_1621', 'm_1263', 'm_2578', 'm_2270', 'm_968', 'm_1089', 'm_7374', 'm_2009', 'm_6337', 'm_7601', 'm_623', 'm_5154', 'm_5529', 'm_4168', 'm_3916', 'm_2878', 'm_9068', 'm_3528', 'm_4033', 'm_3019', 'm_1920', 'm_8344', 'm_6803', 'm_3054', 'm_8379', 'm_1021', 'm_2907', 'm_4094', 'm_4187', 'm_5076', 'm_3517', 'm_2715', 'm_5810', 'm_5767', 'm_4759', 'm_5825', 'm_7994', 'm_7523', 'm_7800']\n",
      "97\n"
     ]
    }
   ],
   "source": [
    "# 检测有多少个商场，以及他们的名字\n",
    "unique_mall = []\n",
    "idx = 0\n",
    "for i in range(len(shop_train['mall_id'])):\n",
    "    if shop_train['mall_id'][i] not in unique_mall:\n",
    "        unique_mall.append(shop_train['mall_id'][i])\n",
    "        idx += 1\n",
    "print(unique_mall)\n",
    "print(len(unique_mall))"
   ]
  },
  {
   "cell_type": "markdown",
   "metadata": {},
   "source": [
    "# 用户在店铺内交易信息"
   ]
  },
  {
   "cell_type": "code",
   "execution_count": 8,
   "metadata": {
    "collapsed": false
   },
   "outputs": [
    {
     "data": {
      "text/html": [
       "<div>\n",
       "<table border=\"1\" class=\"dataframe\">\n",
       "  <thead>\n",
       "    <tr style=\"text-align: right;\">\n",
       "      <th></th>\n",
       "      <th>user_id</th>\n",
       "      <th>shop_id</th>\n",
       "      <th>time_stamp</th>\n",
       "      <th>longitude</th>\n",
       "      <th>latitude</th>\n",
       "      <th>wifi_infos</th>\n",
       "    </tr>\n",
       "  </thead>\n",
       "  <tbody>\n",
       "    <tr>\n",
       "      <th>0</th>\n",
       "      <td>u_376</td>\n",
       "      <td>s_2871718</td>\n",
       "      <td>2017-08-06 21:20</td>\n",
       "      <td>122.308291</td>\n",
       "      <td>32.088040</td>\n",
       "      <td>b_6396480|-67|false;b_41124514|-86|false;b_287...</td>\n",
       "    </tr>\n",
       "    <tr>\n",
       "      <th>1</th>\n",
       "      <td>u_376</td>\n",
       "      <td>s_2871718</td>\n",
       "      <td>2017-08-06 21:20</td>\n",
       "      <td>122.308162</td>\n",
       "      <td>32.087970</td>\n",
       "      <td>b_6396480|-67|false;b_56328155|-73|false;b_411...</td>\n",
       "    </tr>\n",
       "    <tr>\n",
       "      <th>2</th>\n",
       "      <td>u_1041</td>\n",
       "      <td>s_181637</td>\n",
       "      <td>2017-08-02 13:10</td>\n",
       "      <td>117.365255</td>\n",
       "      <td>40.638214</td>\n",
       "      <td>b_8006367|-78|false;b_2485110|-52|false;b_3005...</td>\n",
       "    </tr>\n",
       "    <tr>\n",
       "      <th>3</th>\n",
       "      <td>u_1158</td>\n",
       "      <td>s_609470</td>\n",
       "      <td>2017-08-13 12:30</td>\n",
       "      <td>121.134451</td>\n",
       "      <td>31.197416</td>\n",
       "      <td>b_26250579|-73|false;b_26250580|-64|false;b_26...</td>\n",
       "    </tr>\n",
       "    <tr>\n",
       "      <th>4</th>\n",
       "      <td>u_1654</td>\n",
       "      <td>s_3816766</td>\n",
       "      <td>2017-08-25 19:50</td>\n",
       "      <td>122.255867</td>\n",
       "      <td>31.351320</td>\n",
       "      <td>b_39004150|-66|false;b_39004148|-58|false;b_21...</td>\n",
       "    </tr>\n",
       "  </tbody>\n",
       "</table>\n",
       "</div>"
      ],
      "text/plain": [
       "  user_id    shop_id        time_stamp   longitude   latitude  \\\n",
       "0   u_376  s_2871718  2017-08-06 21:20  122.308291  32.088040   \n",
       "1   u_376  s_2871718  2017-08-06 21:20  122.308162  32.087970   \n",
       "2  u_1041   s_181637  2017-08-02 13:10  117.365255  40.638214   \n",
       "3  u_1158   s_609470  2017-08-13 12:30  121.134451  31.197416   \n",
       "4  u_1654  s_3816766  2017-08-25 19:50  122.255867  31.351320   \n",
       "\n",
       "                                          wifi_infos  \n",
       "0  b_6396480|-67|false;b_41124514|-86|false;b_287...  \n",
       "1  b_6396480|-67|false;b_56328155|-73|false;b_411...  \n",
       "2  b_8006367|-78|false;b_2485110|-52|false;b_3005...  \n",
       "3  b_26250579|-73|false;b_26250580|-64|false;b_26...  \n",
       "4  b_39004150|-66|false;b_39004148|-58|false;b_21...  "
      ]
     },
     "execution_count": 8,
     "metadata": {},
     "output_type": "execute_result"
    }
   ],
   "source": [
    "user_train.head(n=5)"
   ]
  },
  {
   "cell_type": "code",
   "execution_count": 9,
   "metadata": {
    "collapsed": false
   },
   "outputs": [
    {
     "name": "stdout",
     "output_type": "stream",
     "text": [
      "<class 'pandas.core.frame.DataFrame'>\n",
      "RangeIndex: 1138015 entries, 0 to 1138014\n",
      "Data columns (total 6 columns):\n",
      "user_id       1138015 non-null object\n",
      "shop_id       1138015 non-null object\n",
      "time_stamp    1138015 non-null object\n",
      "longitude     1138015 non-null float64\n",
      "latitude      1138015 non-null float64\n",
      "wifi_infos    1138015 non-null object\n",
      "dtypes: float64(2), object(4)\n",
      "memory usage: 52.1+ MB\n"
     ]
    }
   ],
   "source": [
    "user_train.info()"
   ]
  },
  {
   "cell_type": "code",
   "execution_count": 10,
   "metadata": {
    "collapsed": false
   },
   "outputs": [
    {
     "data": {
      "text/html": [
       "<div>\n",
       "<table border=\"1\" class=\"dataframe\">\n",
       "  <thead>\n",
       "    <tr style=\"text-align: right;\">\n",
       "      <th></th>\n",
       "      <th>longitude</th>\n",
       "      <th>latitude</th>\n",
       "    </tr>\n",
       "  </thead>\n",
       "  <tbody>\n",
       "    <tr>\n",
       "      <th>count</th>\n",
       "      <td>1.138015e+06</td>\n",
       "      <td>1.138015e+06</td>\n",
       "    </tr>\n",
       "    <tr>\n",
       "      <th>mean</th>\n",
       "      <td>1.174162e+02</td>\n",
       "      <td>3.286613e+01</td>\n",
       "    </tr>\n",
       "    <tr>\n",
       "      <th>std</th>\n",
       "      <td>4.359182e+00</td>\n",
       "      <td>4.392070e+00</td>\n",
       "    </tr>\n",
       "    <tr>\n",
       "      <th>min</th>\n",
       "      <td>-1.139504e+02</td>\n",
       "      <td>5.364270e-01</td>\n",
       "    </tr>\n",
       "    <tr>\n",
       "      <th>25%</th>\n",
       "      <td>1.146429e+02</td>\n",
       "      <td>3.097768e+01</td>\n",
       "    </tr>\n",
       "    <tr>\n",
       "      <th>50%</th>\n",
       "      <td>1.180478e+02</td>\n",
       "      <td>3.208677e+01</td>\n",
       "    </tr>\n",
       "    <tr>\n",
       "      <th>75%</th>\n",
       "      <td>1.210030e+02</td>\n",
       "      <td>3.525854e+01</td>\n",
       "    </tr>\n",
       "    <tr>\n",
       "      <th>max</th>\n",
       "      <td>1.271192e+02</td>\n",
       "      <td>5.110064e+01</td>\n",
       "    </tr>\n",
       "  </tbody>\n",
       "</table>\n",
       "</div>"
      ],
      "text/plain": [
       "          longitude      latitude\n",
       "count  1.138015e+06  1.138015e+06\n",
       "mean   1.174162e+02  3.286613e+01\n",
       "std    4.359182e+00  4.392070e+00\n",
       "min   -1.139504e+02  5.364270e-01\n",
       "25%    1.146429e+02  3.097768e+01\n",
       "50%    1.180478e+02  3.208677e+01\n",
       "75%    1.210030e+02  3.525854e+01\n",
       "max    1.271192e+02  5.110064e+01"
      ]
     },
     "execution_count": 10,
     "metadata": {},
     "output_type": "execute_result"
    }
   ],
   "source": [
    "user_train.describe()"
   ]
  },
  {
   "cell_type": "code",
   "execution_count": 11,
   "metadata": {
    "collapsed": true
   },
   "outputs": [],
   "source": [
    "# 建立shop_id 到mall_id的映射\n",
    "shop2mall = shop_train.set_index('shop_id').to_dict()['mall_id']\n",
    "# 在user_train数据集中，根据shop2mall新建一个叫mall_id的特征\n",
    "mall_id = []\n",
    "for item in user_train['shop_id']:\n",
    "    mall_id.append(shop2mall[item])\n",
    "# 在user_train中增加一个feature，mall_id，新的训练集叫user_train_mall_added\n",
    "user_train_mall_added = user_train.assign(mall_id=mall_id)"
   ]
  },
  {
   "cell_type": "code",
   "execution_count": 12,
   "metadata": {
    "collapsed": false
   },
   "outputs": [
    {
     "name": "stderr",
     "output_type": "stream",
     "text": [
      "/Users/zhaosiyuan/anaconda/envs/dme_env/lib/python2.7/site-packages/ipykernel/__main__.py:2: FutureWarning: sort(columns=....) is deprecated, use sort_values(by=.....)\n",
      "  from ipykernel import kernelapp as app\n",
      "/Users/zhaosiyuan/anaconda/envs/dme_env/lib/python2.7/site-packages/ipykernel/__main__.py:4: FutureWarning: sort(columns=....) is deprecated, use sort_values(by=.....)\n"
     ]
    }
   ],
   "source": [
    "# 按照mall_id 排序\n",
    "user_train_mall_added_sorted = user_train_mall_added.sort(columns='mall_id')\n",
    "# 按照shop_id 排序\n",
    "user_train_mall_added_sorted_by_shop = user_train_mall_added.sort(columns='shop_id')\n"
   ]
  },
  {
   "cell_type": "code",
   "execution_count": 30,
   "metadata": {
    "collapsed": false
   },
   "outputs": [],
   "source": [
    "# 根据mall_id分组\n",
    "user_train_grouped = user_train_mall_added.groupby('mall_id')\n",
    "train_sets = []\n",
    "for mall_id in unique_mall:\n",
    "    train_sets.append(user_train_grouped.get_group(mall_id))"
   ]
  },
  {
   "cell_type": "code",
   "execution_count": 135,
   "metadata": {
    "collapsed": false
   },
   "outputs": [],
   "source": [
    "def filter_bssid(input_df, KEEP_PER = 1e-3):\n",
    "    '''\n",
    "    输出要保留的wifi特征名，保存成list输出\n",
    "    \n",
    "    input_df:\n",
    "        输入数据集，pandas.DATAFRAME\n",
    "    \n",
    "    KEEP_PER:\n",
    "        bssid保留的底线比例，是某个bssid总共被扫描次数占全部bssid的总共被扫描次数\n",
    "        该比例最小为1/全部bssid的总共被扫描次数，最多为全部数据集个数/全部bssid的总共被扫描次数\n",
    "    '''\n",
    "    # 读取所以可被发现的wifi bssid，并将发现总次数存入wifi_counts中\n",
    "    wifi_counts = {}\n",
    "    for wifi_info in input_df['wifi_infos']:\n",
    "        for bssid in wifi_info.split(';'):\n",
    "            bssid = bssid.split('|')[0]\n",
    "            if bssid not in wifi_counts:\n",
    "                wifi_counts[bssid] = 1\n",
    "            else:\n",
    "                wifi_counts[bssid] += 1\n",
    "    \n",
    "    # 存放准备保留的wifi bssid\n",
    "    bssids = []\n",
    "    min_num_wifi = sum(wifi_counts.values())*KEEP_PER\n",
    "    for key,values in wifi_counts.items():\n",
    "        if values > min_num_wifi:\n",
    "            bssids.append(key)\n",
    "    \n",
    "    i = 0\n",
    "    counts = False\n",
    "    for wifi_info in input_df['wifi_infos']:\n",
    "        for bssid in wifi_info.split(';'):\n",
    "            bssid, strength, _ = bssid.split('|')\n",
    "            if bssid in bssids:\n",
    "                counts = True\n",
    "        if counts:\n",
    "            i += 1\n",
    "    print(\"percentage of useful wifi scans: %\", i/input_df.shape[0]*100)\n",
    "    \n",
    "    return bssids\n",
    "\n",
    "\n",
    "def expand_wifi_feature(input_df, bssids):\n",
    "    '''\n",
    "    根据给定的bssid list和DataFrame，拓展特征空间\n",
    "    input_df: Pandas.DataFrame\n",
    "\n",
    "    bssids: 准备拓展的bssid list\n",
    "    '''\n",
    "    test = input_df.copy()\n",
    "    # 建立全部强度值为-110的wifi特征\n",
    "    wifi_features = np.zeros((test.shape[0], len(bssids)), dtype='int')\n",
    "    wifi_features += -110\n",
    "    wifi_features\n",
    "    df_wifi = pd.DataFrame(wifi_features, columns = bssids)\n",
    "    df_wifi.set_index(test.index, inplace=True)\n",
    "    test = test.join(df_wifi)\n",
    "\n",
    "    # 替换部分可被扫描的wifi信号强度为\n",
    "    for i in test.index:\n",
    "        wifi_info = test.loc[i, 'wifi_infos']   \n",
    "        bssid2strength = {}\n",
    "        for data in wifi_info.split(';'):\n",
    "            bssid, strength, _ = data.split('|')\n",
    "            bssid2strength[bssid] = int(strength)\n",
    "        all_bssid = bssid2strength.keys()\n",
    "        for bssid in all_bssid:\n",
    "            if bssid in bssids:\n",
    "                test.loc[i, bssid] = bssid2strength[bssid]\n",
    "    return test\n",
    "\n",
    "def standardize(input_df):\n",
    "    '''\n",
    "    标准化经纬度，wifi信号强度\n",
    "    '''\n",
    "    # 分别标准化经纬度\n",
    "    cols_to_norm = ['longitude', 'latitude']\n",
    "    input_df.loc[:, cols_to_norm] = input_df.loc[:, cols_to_norm].apply(lambda x: (x - x.mean()) / x.std())\n",
    "    \n",
    "    # 整体标准化bssids\n",
    "    cols_to_norm = bssids\n",
    "    mean = np.mean(input_df.loc[:, cols_to_norm].as_matrix())\n",
    "    std = np.std(input_df.loc[:, cols_to_norm].as_matrix())\n",
    "    input_df.loc[:, cols_to_norm] = (input_df.loc[:, cols_to_norm] - mean)/std\n",
    "    input_df.loc[:, cols_to_norm] = input_df[bssids].astype('float16') #降低空间需求\n"
   ]
  },
  {
   "cell_type": "code",
   "execution_count": 314,
   "metadata": {
    "collapsed": false,
    "scrolled": true
   },
   "outputs": [
    {
     "name": "stdout",
     "output_type": "stream",
     "text": [
      "percentage of useful wifi scans: % 100.0\n"
     ]
    }
   ],
   "source": [
    "# 对每个训练集输出成csv\n",
    "for df in train_sets[:1]:\n",
    "    bssids = filter_bssid(df)\n",
    "    df = expand_wifi_feature(df, bssids)\n",
    "    standardize(df)\n",
    "    df.to_csv(df.iloc[-1,6] + '.csv')"
   ]
  },
  {
   "cell_type": "code",
   "execution_count": 289,
   "metadata": {
    "collapsed": false
   },
   "outputs": [
    {
     "name": "stdout",
     "output_type": "stream",
     "text": [
      "percentage of useful wifi scans: % 100.0\n"
     ]
    }
   ],
   "source": [
    "test = train_sets[1].copy()    \n",
    "bssids = filter_bssid(test)\n",
    "test = expand_wifi_feature(test, bssids)"
   ]
  },
  {
   "cell_type": "code",
   "execution_count": 295,
   "metadata": {
    "collapsed": false
   },
   "outputs": [
    {
     "data": {
      "text/html": [
       "<div>\n",
       "<table border=\"1\" class=\"dataframe\">\n",
       "  <thead>\n",
       "    <tr style=\"text-align: right;\">\n",
       "      <th></th>\n",
       "      <th>user_id</th>\n",
       "      <th>shop_id</th>\n",
       "      <th>time_stamp</th>\n",
       "      <th>longitude</th>\n",
       "      <th>latitude</th>\n",
       "      <th>wifi_infos</th>\n",
       "      <th>mall_id</th>\n",
       "      <th>b_32429352</th>\n",
       "      <th>b_44536729</th>\n",
       "      <th>b_26250479</th>\n",
       "      <th>...</th>\n",
       "      <th>b_21667404</th>\n",
       "      <th>b_14932675</th>\n",
       "      <th>b_26250607</th>\n",
       "      <th>b_26250602</th>\n",
       "      <th>b_26250603</th>\n",
       "      <th>b_26250609</th>\n",
       "      <th>b_57038543</th>\n",
       "      <th>b_51988715</th>\n",
       "      <th>b_30580001</th>\n",
       "      <th>b_15074731</th>\n",
       "    </tr>\n",
       "  </thead>\n",
       "  <tbody>\n",
       "    <tr>\n",
       "      <th>3</th>\n",
       "      <td>u_1158</td>\n",
       "      <td>s_609470</td>\n",
       "      <td>2017-08-13 12:30</td>\n",
       "      <td>-0.009350</td>\n",
       "      <td>-0.055700</td>\n",
       "      <td>b_26250579|-73|false;b_26250580|-64|false;b_26...</td>\n",
       "      <td>m_6587</td>\n",
       "      <td>-0.145624</td>\n",
       "      <td>-0.145624</td>\n",
       "      <td>-0.145624</td>\n",
       "      <td>...</td>\n",
       "      <td>-0.145624</td>\n",
       "      <td>-0.145624</td>\n",
       "      <td>-0.145624</td>\n",
       "      <td>-0.145624</td>\n",
       "      <td>-0.145624</td>\n",
       "      <td>-0.145624</td>\n",
       "      <td>-0.145624</td>\n",
       "      <td>-0.145624</td>\n",
       "      <td>-0.145624</td>\n",
       "      <td>-0.145624</td>\n",
       "    </tr>\n",
       "    <tr>\n",
       "      <th>147</th>\n",
       "      <td>u_29096</td>\n",
       "      <td>s_609470</td>\n",
       "      <td>2017-08-28 18:50</td>\n",
       "      <td>-0.011070</td>\n",
       "      <td>-0.055426</td>\n",
       "      <td>b_30424471|-51|true;b_26250578|-74|false;b_262...</td>\n",
       "      <td>m_6587</td>\n",
       "      <td>-0.145624</td>\n",
       "      <td>-0.145624</td>\n",
       "      <td>-0.145624</td>\n",
       "      <td>...</td>\n",
       "      <td>-0.145624</td>\n",
       "      <td>-0.145624</td>\n",
       "      <td>-0.145624</td>\n",
       "      <td>-0.145624</td>\n",
       "      <td>-0.145624</td>\n",
       "      <td>-0.145624</td>\n",
       "      <td>-0.145624</td>\n",
       "      <td>-0.145624</td>\n",
       "      <td>-0.145624</td>\n",
       "      <td>-0.145624</td>\n",
       "    </tr>\n",
       "    <tr>\n",
       "      <th>148</th>\n",
       "      <td>u_29096</td>\n",
       "      <td>s_8178</td>\n",
       "      <td>2017-08-01 12:40</td>\n",
       "      <td>-0.024191</td>\n",
       "      <td>-0.048976</td>\n",
       "      <td>b_14288308|-61|false;b_14932675|-71|false;b_31...</td>\n",
       "      <td>m_6587</td>\n",
       "      <td>-0.145624</td>\n",
       "      <td>-0.145624</td>\n",
       "      <td>-0.145624</td>\n",
       "      <td>...</td>\n",
       "      <td>-0.145624</td>\n",
       "      <td>6.057718</td>\n",
       "      <td>-0.145624</td>\n",
       "      <td>-0.145624</td>\n",
       "      <td>-0.145624</td>\n",
       "      <td>-0.145624</td>\n",
       "      <td>-0.145624</td>\n",
       "      <td>-0.145624</td>\n",
       "      <td>-0.145624</td>\n",
       "      <td>-0.145624</td>\n",
       "    </tr>\n",
       "    <tr>\n",
       "      <th>149</th>\n",
       "      <td>u_29096</td>\n",
       "      <td>s_3858056</td>\n",
       "      <td>2017-08-14 11:40</td>\n",
       "      <td>-0.009403</td>\n",
       "      <td>-0.043572</td>\n",
       "      <td>b_22161604|-84|false;b_44536729|-75|false;b_29...</td>\n",
       "      <td>m_6587</td>\n",
       "      <td>-0.145624</td>\n",
       "      <td>5.421478</td>\n",
       "      <td>-0.145624</td>\n",
       "      <td>...</td>\n",
       "      <td>-0.145624</td>\n",
       "      <td>-0.145624</td>\n",
       "      <td>-0.145624</td>\n",
       "      <td>-0.145624</td>\n",
       "      <td>-0.145624</td>\n",
       "      <td>-0.145624</td>\n",
       "      <td>-0.145624</td>\n",
       "      <td>-0.145624</td>\n",
       "      <td>-0.145624</td>\n",
       "      <td>-0.145624</td>\n",
       "    </tr>\n",
       "    <tr>\n",
       "      <th>150</th>\n",
       "      <td>u_29096</td>\n",
       "      <td>s_428339</td>\n",
       "      <td>2017-08-03 12:30</td>\n",
       "      <td>-0.007559</td>\n",
       "      <td>-0.058813</td>\n",
       "      <td>b_26250696|-74|false;b_26250518|-79|false;b_26...</td>\n",
       "      <td>m_6587</td>\n",
       "      <td>-0.145624</td>\n",
       "      <td>-0.145624</td>\n",
       "      <td>-0.145624</td>\n",
       "      <td>...</td>\n",
       "      <td>-0.145624</td>\n",
       "      <td>-0.145624</td>\n",
       "      <td>-0.145624</td>\n",
       "      <td>-0.145624</td>\n",
       "      <td>-0.145624</td>\n",
       "      <td>-0.145624</td>\n",
       "      <td>-0.145624</td>\n",
       "      <td>-0.145624</td>\n",
       "      <td>-0.145624</td>\n",
       "      <td>-0.145624</td>\n",
       "    </tr>\n",
       "  </tbody>\n",
       "</table>\n",
       "<p>5 rows × 321 columns</p>\n",
       "</div>"
      ],
      "text/plain": [
       "     user_id    shop_id        time_stamp  longitude  latitude  \\\n",
       "3     u_1158   s_609470  2017-08-13 12:30  -0.009350 -0.055700   \n",
       "147  u_29096   s_609470  2017-08-28 18:50  -0.011070 -0.055426   \n",
       "148  u_29096     s_8178  2017-08-01 12:40  -0.024191 -0.048976   \n",
       "149  u_29096  s_3858056  2017-08-14 11:40  -0.009403 -0.043572   \n",
       "150  u_29096   s_428339  2017-08-03 12:30  -0.007559 -0.058813   \n",
       "\n",
       "                                            wifi_infos mall_id  b_32429352  \\\n",
       "3    b_26250579|-73|false;b_26250580|-64|false;b_26...  m_6587   -0.145624   \n",
       "147  b_30424471|-51|true;b_26250578|-74|false;b_262...  m_6587   -0.145624   \n",
       "148  b_14288308|-61|false;b_14932675|-71|false;b_31...  m_6587   -0.145624   \n",
       "149  b_22161604|-84|false;b_44536729|-75|false;b_29...  m_6587   -0.145624   \n",
       "150  b_26250696|-74|false;b_26250518|-79|false;b_26...  m_6587   -0.145624   \n",
       "\n",
       "     b_44536729  b_26250479     ...      b_21667404  b_14932675  b_26250607  \\\n",
       "3     -0.145624   -0.145624     ...       -0.145624   -0.145624   -0.145624   \n",
       "147   -0.145624   -0.145624     ...       -0.145624   -0.145624   -0.145624   \n",
       "148   -0.145624   -0.145624     ...       -0.145624    6.057718   -0.145624   \n",
       "149    5.421478   -0.145624     ...       -0.145624   -0.145624   -0.145624   \n",
       "150   -0.145624   -0.145624     ...       -0.145624   -0.145624   -0.145624   \n",
       "\n",
       "     b_26250602  b_26250603  b_26250609  b_57038543  b_51988715  b_30580001  \\\n",
       "3     -0.145624   -0.145624   -0.145624   -0.145624   -0.145624   -0.145624   \n",
       "147   -0.145624   -0.145624   -0.145624   -0.145624   -0.145624   -0.145624   \n",
       "148   -0.145624   -0.145624   -0.145624   -0.145624   -0.145624   -0.145624   \n",
       "149   -0.145624   -0.145624   -0.145624   -0.145624   -0.145624   -0.145624   \n",
       "150   -0.145624   -0.145624   -0.145624   -0.145624   -0.145624   -0.145624   \n",
       "\n",
       "     b_15074731  \n",
       "3     -0.145624  \n",
       "147   -0.145624  \n",
       "148   -0.145624  \n",
       "149   -0.145624  \n",
       "150   -0.145624  \n",
       "\n",
       "[5 rows x 321 columns]"
      ]
     },
     "execution_count": 295,
     "metadata": {},
     "output_type": "execute_result"
    }
   ],
   "source": [
    "test.head()"
   ]
  },
  {
   "cell_type": "code",
   "execution_count": 310,
   "metadata": {
    "collapsed": false
   },
   "outputs": [],
   "source": [
    "test.loc[:, bssids] = test[bssids].astype('float16')\n"
   ]
  },
  {
   "cell_type": "code",
   "execution_count": 312,
   "metadata": {
    "collapsed": false
   },
   "outputs": [],
   "source": [
    "test.to_csv(test.iloc[-1,6] + '.csv')"
   ]
  },
  {
   "cell_type": "code",
   "execution_count": 432,
   "metadata": {
    "collapsed": false
   },
   "outputs": [],
   "source": [
    "dist_bssid = sorted(wifi_counts.items(), key=lambda x:x[1], reverse=True)"
   ]
  },
  {
   "cell_type": "markdown",
   "metadata": {},
   "source": [
    "# 预测集"
   ]
  },
  {
   "cell_type": "code",
   "execution_count": 31,
   "metadata": {
    "collapsed": false
   },
   "outputs": [
    {
     "data": {
      "text/html": [
       "<div>\n",
       "<table border=\"1\" class=\"dataframe\">\n",
       "  <thead>\n",
       "    <tr style=\"text-align: right;\">\n",
       "      <th></th>\n",
       "      <th>row_id</th>\n",
       "      <th>user_id</th>\n",
       "      <th>mall_id</th>\n",
       "      <th>time_stamp</th>\n",
       "      <th>longitude</th>\n",
       "      <th>latitude</th>\n",
       "      <th>wifi_infos</th>\n",
       "    </tr>\n",
       "  </thead>\n",
       "  <tbody>\n",
       "    <tr>\n",
       "      <th>0</th>\n",
       "      <td>118742</td>\n",
       "      <td>u_30097142</td>\n",
       "      <td>m_3916</td>\n",
       "      <td>2017-09-05 13:00</td>\n",
       "      <td>122.141011</td>\n",
       "      <td>39.818847</td>\n",
       "      <td>b_34366982|-82|false;b_37756289|-53|false;b_41...</td>\n",
       "    </tr>\n",
       "    <tr>\n",
       "      <th>1</th>\n",
       "      <td>118743</td>\n",
       "      <td>u_30097803</td>\n",
       "      <td>m_5085</td>\n",
       "      <td>2017-09-06 13:10</td>\n",
       "      <td>118.191907</td>\n",
       "      <td>32.855858</td>\n",
       "      <td>b_36722251|-81|false;b_10537579|-75|false;b_43...</td>\n",
       "    </tr>\n",
       "    <tr>\n",
       "      <th>2</th>\n",
       "      <td>118744</td>\n",
       "      <td>u_30097889</td>\n",
       "      <td>m_4033</td>\n",
       "      <td>2017-09-06 17:40</td>\n",
       "      <td>119.192110</td>\n",
       "      <td>32.424667</td>\n",
       "      <td>b_30026291|-74|false;b_30026290|-74|false;b_36...</td>\n",
       "    </tr>\n",
       "    <tr>\n",
       "      <th>3</th>\n",
       "      <td>118745</td>\n",
       "      <td>u_30098996</td>\n",
       "      <td>m_4515</td>\n",
       "      <td>2017-09-03 12:10</td>\n",
       "      <td>120.612201</td>\n",
       "      <td>34.055249</td>\n",
       "      <td>b_33412374|-77|false;b_22084893|-86|false;b_52...</td>\n",
       "    </tr>\n",
       "    <tr>\n",
       "      <th>4</th>\n",
       "      <td>118746</td>\n",
       "      <td>u_30099170</td>\n",
       "      <td>m_7168</td>\n",
       "      <td>2017-09-02 20:40</td>\n",
       "      <td>116.861989</td>\n",
       "      <td>40.326858</td>\n",
       "      <td>b_19882704|-77|false;b_2241462|-49|false;b_585...</td>\n",
       "    </tr>\n",
       "  </tbody>\n",
       "</table>\n",
       "</div>"
      ],
      "text/plain": [
       "   row_id     user_id mall_id        time_stamp   longitude   latitude  \\\n",
       "0  118742  u_30097142  m_3916  2017-09-05 13:00  122.141011  39.818847   \n",
       "1  118743  u_30097803  m_5085  2017-09-06 13:10  118.191907  32.855858   \n",
       "2  118744  u_30097889  m_4033  2017-09-06 17:40  119.192110  32.424667   \n",
       "3  118745  u_30098996  m_4515  2017-09-03 12:10  120.612201  34.055249   \n",
       "4  118746  u_30099170  m_7168  2017-09-02 20:40  116.861989  40.326858   \n",
       "\n",
       "                                          wifi_infos  \n",
       "0  b_34366982|-82|false;b_37756289|-53|false;b_41...  \n",
       "1  b_36722251|-81|false;b_10537579|-75|false;b_43...  \n",
       "2  b_30026291|-74|false;b_30026290|-74|false;b_36...  \n",
       "3  b_33412374|-77|false;b_22084893|-86|false;b_52...  \n",
       "4  b_19882704|-77|false;b_2241462|-49|false;b_585...  "
      ]
     },
     "execution_count": 31,
     "metadata": {},
     "output_type": "execute_result"
    }
   ],
   "source": [
    "evaluation_data.head(n=5)"
   ]
  },
  {
   "cell_type": "code",
   "execution_count": 38,
   "metadata": {
    "collapsed": false
   },
   "outputs": [
    {
     "name": "stdout",
     "output_type": "stream",
     "text": [
      "<class 'pandas.core.frame.DataFrame'>\n",
      "RangeIndex: 483931 entries, 0 to 483930\n",
      "Data columns (total 7 columns):\n",
      "row_id        483931 non-null int64\n",
      "user_id       483931 non-null object\n",
      "mall_id       483931 non-null object\n",
      "time_stamp    483931 non-null object\n",
      "longitude     483931 non-null float64\n",
      "latitude      483931 non-null float64\n",
      "wifi_infos    483931 non-null object\n",
      "dtypes: float64(2), int64(1), object(4)\n",
      "memory usage: 25.8+ MB\n"
     ]
    }
   ],
   "source": [
    "evaluation_data.info()"
   ]
  },
  {
   "cell_type": "code",
   "execution_count": 39,
   "metadata": {
    "collapsed": false
   },
   "outputs": [
    {
     "data": {
      "text/html": [
       "<div>\n",
       "<table border=\"1\" class=\"dataframe\">\n",
       "  <thead>\n",
       "    <tr style=\"text-align: right;\">\n",
       "      <th></th>\n",
       "      <th>row_id</th>\n",
       "      <th>longitude</th>\n",
       "      <th>latitude</th>\n",
       "    </tr>\n",
       "  </thead>\n",
       "  <tbody>\n",
       "    <tr>\n",
       "      <th>count</th>\n",
       "      <td>483931.000000</td>\n",
       "      <td>483931.000000</td>\n",
       "      <td>483931.000000</td>\n",
       "    </tr>\n",
       "    <tr>\n",
       "      <th>mean</th>\n",
       "      <td>241966.000000</td>\n",
       "      <td>117.520898</td>\n",
       "      <td>32.880096</td>\n",
       "    </tr>\n",
       "    <tr>\n",
       "      <th>std</th>\n",
       "      <td>139698.990897</td>\n",
       "      <td>4.236408</td>\n",
       "      <td>4.496274</td>\n",
       "    </tr>\n",
       "    <tr>\n",
       "      <th>min</th>\n",
       "      <td>1.000000</td>\n",
       "      <td>87.841705</td>\n",
       "      <td>22.766598</td>\n",
       "    </tr>\n",
       "    <tr>\n",
       "      <th>25%</th>\n",
       "      <td>120983.500000</td>\n",
       "      <td>114.831137</td>\n",
       "      <td>30.965195</td>\n",
       "    </tr>\n",
       "    <tr>\n",
       "      <th>50%</th>\n",
       "      <td>241966.000000</td>\n",
       "      <td>118.048544</td>\n",
       "      <td>31.975273</td>\n",
       "    </tr>\n",
       "    <tr>\n",
       "      <th>75%</th>\n",
       "      <td>362948.500000</td>\n",
       "      <td>121.002735</td>\n",
       "      <td>35.552129</td>\n",
       "    </tr>\n",
       "    <tr>\n",
       "      <th>max</th>\n",
       "      <td>483931.000000</td>\n",
       "      <td>127.119151</td>\n",
       "      <td>47.581047</td>\n",
       "    </tr>\n",
       "  </tbody>\n",
       "</table>\n",
       "</div>"
      ],
      "text/plain": [
       "              row_id      longitude       latitude\n",
       "count  483931.000000  483931.000000  483931.000000\n",
       "mean   241966.000000     117.520898      32.880096\n",
       "std    139698.990897       4.236408       4.496274\n",
       "min         1.000000      87.841705      22.766598\n",
       "25%    120983.500000     114.831137      30.965195\n",
       "50%    241966.000000     118.048544      31.975273\n",
       "75%    362948.500000     121.002735      35.552129\n",
       "max    483931.000000     127.119151      47.581047"
      ]
     },
     "execution_count": 39,
     "metadata": {},
     "output_type": "execute_result"
    }
   ],
   "source": [
    "evaluation_data.describe()"
   ]
  }
 ],
 "metadata": {
  "kernelspec": {
   "display_name": "Python 2",
   "language": "python",
   "name": "python2"
  },
  "language_info": {
   "codemirror_mode": {
    "name": "ipython",
    "version": 2
   },
   "file_extension": ".py",
   "mimetype": "text/x-python",
   "name": "python",
   "nbconvert_exporter": "python",
   "pygments_lexer": "ipython2",
   "version": "2.7.13"
  }
 },
 "nbformat": 4,
 "nbformat_minor": 2
}
